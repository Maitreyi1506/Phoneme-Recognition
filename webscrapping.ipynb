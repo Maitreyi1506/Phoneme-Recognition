{
 "cells": [
  {
   "cell_type": "code",
   "execution_count": 1,
   "metadata": {},
   "outputs": [],
   "source": [
    "import pandas as pd"
   ]
  },
  {
   "cell_type": "code",
   "execution_count": 2,
   "metadata": {},
   "outputs": [],
   "source": [
    "df = pd.DataFrame(['text'])"
   ]
  },
  {
   "cell_type": "code",
   "execution_count": 3,
   "metadata": {},
   "outputs": [
    {
     "data": {
      "text/html": [
       "<div>\n",
       "<style scoped>\n",
       "    .dataframe tbody tr th:only-of-type {\n",
       "        vertical-align: middle;\n",
       "    }\n",
       "\n",
       "    .dataframe tbody tr th {\n",
       "        vertical-align: top;\n",
       "    }\n",
       "\n",
       "    .dataframe thead th {\n",
       "        text-align: right;\n",
       "    }\n",
       "</style>\n",
       "<table border=\"1\" class=\"dataframe\">\n",
       "  <thead>\n",
       "    <tr style=\"text-align: right;\">\n",
       "      <th></th>\n",
       "      <th>0</th>\n",
       "    </tr>\n",
       "  </thead>\n",
       "  <tbody>\n",
       "    <tr>\n",
       "      <th>0</th>\n",
       "      <td>text</td>\n",
       "    </tr>\n",
       "  </tbody>\n",
       "</table>\n",
       "</div>"
      ],
      "text/plain": [
       "      0\n",
       "0  text"
      ]
     },
     "execution_count": 3,
     "metadata": {},
     "output_type": "execute_result"
    }
   ],
   "source": [
    "df"
   ]
  },
  {
   "cell_type": "code",
   "execution_count": 18,
   "metadata": {},
   "outputs": [],
   "source": [
    "with open('D:/GV_Train_100h/GV_Train_100h/text', 'r', encoding='utf-8') as file:\n",
    "    lines = file.readlines()\n",
    "\n",
    "text_lines = []\n",
    "audio_file = []\n",
    "for line in lines:\n",
    "    # print(line)\n",
    "    audio_file.append(line.split()[0])\n",
    "    text_lines.append(\" \".join(line.split()[1:]))"
   ]
  },
  {
   "cell_type": "code",
   "execution_count": 21,
   "metadata": {},
   "outputs": [
    {
     "data": {
      "text/html": [
       "<div>\n",
       "<style scoped>\n",
       "    .dataframe tbody tr th:only-of-type {\n",
       "        vertical-align: middle;\n",
       "    }\n",
       "\n",
       "    .dataframe tbody tr th {\n",
       "        vertical-align: top;\n",
       "    }\n",
       "\n",
       "    .dataframe thead th {\n",
       "        text-align: right;\n",
       "    }\n",
       "</style>\n",
       "<table border=\"1\" class=\"dataframe\">\n",
       "  <thead>\n",
       "    <tr style=\"text-align: right;\">\n",
       "      <th></th>\n",
       "      <th>File Name</th>\n",
       "      <th>Text</th>\n",
       "    </tr>\n",
       "  </thead>\n",
       "  <tbody>\n",
       "    <tr>\n",
       "      <th>0</th>\n",
       "      <td>01-00003-02</td>\n",
       "      <td>इस मामले में कोर्ट द्वारा निर्देश दिया गया है ...</td>\n",
       "    </tr>\n",
       "    <tr>\n",
       "      <th>1</th>\n",
       "      <td>01-00003-03</td>\n",
       "      <td>आदिवासी प्रदेश कार्यकाल में सदस्य रहे कुमार श्...</td>\n",
       "    </tr>\n",
       "    <tr>\n",
       "      <th>2</th>\n",
       "      <td>01-00004-01</td>\n",
       "      <td>बारह जात तो आंदोलन करेंगे जाने वाले बड़े संख्या...</td>\n",
       "    </tr>\n",
       "    <tr>\n",
       "      <th>3</th>\n",
       "      <td>01-00004-03</td>\n",
       "      <td>में दिलीप पांडे मोबइलवाणी मीडिया डेस्क ऐसी को ...</td>\n",
       "    </tr>\n",
       "    <tr>\n",
       "      <th>4</th>\n",
       "      <td>01-00005-02</td>\n",
       "      <td>का फोटोकॉपी लिया जा रहा हैं वही नेता मुकेश याद...</td>\n",
       "    </tr>\n",
       "    <tr>\n",
       "      <th>5</th>\n",
       "      <td>01-00006-01</td>\n",
       "      <td>में कागजात जमा किए जा रहे हैं</td>\n",
       "    </tr>\n",
       "    <tr>\n",
       "      <th>6</th>\n",
       "      <td>01-00006-02</td>\n",
       "      <td>दूध बेचते हुए अस्पताल प्रखंड के लिए अलग अलग ता...</td>\n",
       "    </tr>\n",
       "    <tr>\n",
       "      <th>7</th>\n",
       "      <td>01-00006-03</td>\n",
       "      <td>पूरी मजदूरी यूनियन ऐसी महा मंत्री पी जी M ने ब...</td>\n",
       "    </tr>\n",
       "    <tr>\n",
       "      <th>8</th>\n",
       "      <td>01-00007-01</td>\n",
       "      <td>में दिलीप पाण्डेय ऐसी मोबाइल वाणी न्यूज़ एक्सप्...</td>\n",
       "    </tr>\n",
       "    <tr>\n",
       "      <th>9</th>\n",
       "      <td>01-00007-02</td>\n",
       "      <td>आंदोलन को रोक देना आवश्यक है यह कहना है जमुई क...</td>\n",
       "    </tr>\n",
       "  </tbody>\n",
       "</table>\n",
       "</div>"
      ],
      "text/plain": [
       "     File Name                                               Text\n",
       "0  01-00003-02  इस मामले में कोर्ट द्वारा निर्देश दिया गया है ...\n",
       "1  01-00003-03  आदिवासी प्रदेश कार्यकाल में सदस्य रहे कुमार श्...\n",
       "2  01-00004-01  बारह जात तो आंदोलन करेंगे जाने वाले बड़े संख्या...\n",
       "3  01-00004-03  में दिलीप पांडे मोबइलवाणी मीडिया डेस्क ऐसी को ...\n",
       "4  01-00005-02  का फोटोकॉपी लिया जा रहा हैं वही नेता मुकेश याद...\n",
       "5  01-00006-01                      में कागजात जमा किए जा रहे हैं\n",
       "6  01-00006-02  दूध बेचते हुए अस्पताल प्रखंड के लिए अलग अलग ता...\n",
       "7  01-00006-03  पूरी मजदूरी यूनियन ऐसी महा मंत्री पी जी M ने ब...\n",
       "8  01-00007-01  में दिलीप पाण्डेय ऐसी मोबाइल वाणी न्यूज़ एक्सप्...\n",
       "9  01-00007-02  आंदोलन को रोक देना आवश्यक है यह कहना है जमुई क..."
      ]
     },
     "execution_count": 21,
     "metadata": {},
     "output_type": "execute_result"
    }
   ],
   "source": [
    "df = pd.DataFrame({'File Name': audio_file, 'Text': text_lines})"
   ]
  },
  {
   "cell_type": "code",
   "execution_count": 26,
   "metadata": {},
   "outputs": [
    {
     "data": {
      "text/html": [
       "<div>\n",
       "<style scoped>\n",
       "    .dataframe tbody tr th:only-of-type {\n",
       "        vertical-align: middle;\n",
       "    }\n",
       "\n",
       "    .dataframe tbody tr th {\n",
       "        vertical-align: top;\n",
       "    }\n",
       "\n",
       "    .dataframe thead th {\n",
       "        text-align: right;\n",
       "    }\n",
       "</style>\n",
       "<table border=\"1\" class=\"dataframe\">\n",
       "  <thead>\n",
       "    <tr style=\"text-align: right;\">\n",
       "      <th></th>\n",
       "      <th>File Name</th>\n",
       "      <th>Text</th>\n",
       "    </tr>\n",
       "  </thead>\n",
       "  <tbody>\n",
       "    <tr>\n",
       "      <th>0</th>\n",
       "      <td>01-00003-02</td>\n",
       "      <td>इस मामले में कोर्ट द्वारा निर्देश दिया गया है ...</td>\n",
       "    </tr>\n",
       "    <tr>\n",
       "      <th>1</th>\n",
       "      <td>01-00003-03</td>\n",
       "      <td>आदिवासी प्रदेश कार्यकाल में सदस्य रहे कुमार श्...</td>\n",
       "    </tr>\n",
       "    <tr>\n",
       "      <th>2</th>\n",
       "      <td>01-00004-01</td>\n",
       "      <td>बारह जात तो आंदोलन करेंगे जाने वाले बड़े संख्या...</td>\n",
       "    </tr>\n",
       "    <tr>\n",
       "      <th>3</th>\n",
       "      <td>01-00004-03</td>\n",
       "      <td>में दिलीप पांडे मोबइलवाणी मीडिया डेस्क ऐसी को ...</td>\n",
       "    </tr>\n",
       "    <tr>\n",
       "      <th>4</th>\n",
       "      <td>01-00005-02</td>\n",
       "      <td>का फोटोकॉपी लिया जा रहा हैं वही नेता मुकेश याद...</td>\n",
       "    </tr>\n",
       "    <tr>\n",
       "      <th>5</th>\n",
       "      <td>01-00006-01</td>\n",
       "      <td>में कागजात जमा किए जा रहे हैं</td>\n",
       "    </tr>\n",
       "    <tr>\n",
       "      <th>6</th>\n",
       "      <td>01-00006-02</td>\n",
       "      <td>दूध बेचते हुए अस्पताल प्रखंड के लिए अलग अलग ता...</td>\n",
       "    </tr>\n",
       "    <tr>\n",
       "      <th>7</th>\n",
       "      <td>01-00006-03</td>\n",
       "      <td>पूरी मजदूरी यूनियन ऐसी महा मंत्री पी जी M ने ब...</td>\n",
       "    </tr>\n",
       "    <tr>\n",
       "      <th>8</th>\n",
       "      <td>01-00007-01</td>\n",
       "      <td>में दिलीप पाण्डेय ऐसी मोबाइल वाणी न्यूज़ एक्सप्...</td>\n",
       "    </tr>\n",
       "    <tr>\n",
       "      <th>9</th>\n",
       "      <td>01-00007-02</td>\n",
       "      <td>आंदोलन को रोक देना आवश्यक है यह कहना है जमुई क...</td>\n",
       "    </tr>\n",
       "    <tr>\n",
       "      <th>10</th>\n",
       "      <td>01-00007-03</td>\n",
       "      <td>उन्होंने कहा की वृक्षारोपण को अपना धर्म बनाना ...</td>\n",
       "    </tr>\n",
       "    <tr>\n",
       "      <th>11</th>\n",
       "      <td>01-00008-01</td>\n",
       "      <td>और सुरक्षित नहीं हो सकता</td>\n",
       "    </tr>\n",
       "    <tr>\n",
       "      <th>12</th>\n",
       "      <td>01-00009-02</td>\n",
       "      <td>एक वयक्ति की औसत आयु सत्तर से पचहतर हो गयी हैं...</td>\n",
       "    </tr>\n",
       "    <tr>\n",
       "      <th>13</th>\n",
       "      <td>01-00009-03</td>\n",
       "      <td>करने की कोई ज़रुरत नहीं हैं तो यह सोचना होगा पर...</td>\n",
       "    </tr>\n",
       "    <tr>\n",
       "      <th>14</th>\n",
       "      <td>01-00010-01</td>\n",
       "      <td>एक वृक्ष लगाकर पर्यावरण प्रति जागरूक हो जायेंग...</td>\n",
       "    </tr>\n",
       "    <tr>\n",
       "      <th>15</th>\n",
       "      <td>01-00010-02</td>\n",
       "      <td>दिलीप पांडे मोबइलवाणी मीडिया डेस्क ऐसी</td>\n",
       "    </tr>\n",
       "    <tr>\n",
       "      <th>16</th>\n",
       "      <td>01-00010-03</td>\n",
       "      <td>में दिलीप पांडे मोबइलवाणी मीडिया डेस्क ऐसी नगर...</td>\n",
       "    </tr>\n",
       "    <tr>\n",
       "      <th>17</th>\n",
       "      <td>01-00011-01</td>\n",
       "      <td>सफाई अभियान में लगा हैं इतनी बड़ी के बाद भी जहा...</td>\n",
       "    </tr>\n",
       "    <tr>\n",
       "      <th>18</th>\n",
       "      <td>01-00011-02</td>\n",
       "      <td>नगर को सफाई के नाम आरोप सोलह ऐसी सत्रह लाख रूप...</td>\n",
       "    </tr>\n",
       "    <tr>\n",
       "      <th>19</th>\n",
       "      <td>01-00011-03</td>\n",
       "      <td>#incomplete मिशन सोसाइटी चर्च ऑफ़ संस्था के तहत...</td>\n",
       "    </tr>\n",
       "    <tr>\n",
       "      <th>20</th>\n",
       "      <td>01-00012-01</td>\n",
       "      <td>इस अभियान में नेपाल ऐसी आये टीम में कर की नेपा...</td>\n",
       "    </tr>\n",
       "  </tbody>\n",
       "</table>\n",
       "</div>"
      ],
      "text/plain": [
       "      File Name                                               Text\n",
       "0   01-00003-02  इस मामले में कोर्ट द्वारा निर्देश दिया गया है ...\n",
       "1   01-00003-03  आदिवासी प्रदेश कार्यकाल में सदस्य रहे कुमार श्...\n",
       "2   01-00004-01  बारह जात तो आंदोलन करेंगे जाने वाले बड़े संख्या...\n",
       "3   01-00004-03  में दिलीप पांडे मोबइलवाणी मीडिया डेस्क ऐसी को ...\n",
       "4   01-00005-02  का फोटोकॉपी लिया जा रहा हैं वही नेता मुकेश याद...\n",
       "5   01-00006-01                      में कागजात जमा किए जा रहे हैं\n",
       "6   01-00006-02  दूध बेचते हुए अस्पताल प्रखंड के लिए अलग अलग ता...\n",
       "7   01-00006-03  पूरी मजदूरी यूनियन ऐसी महा मंत्री पी जी M ने ब...\n",
       "8   01-00007-01  में दिलीप पाण्डेय ऐसी मोबाइल वाणी न्यूज़ एक्सप्...\n",
       "9   01-00007-02  आंदोलन को रोक देना आवश्यक है यह कहना है जमुई क...\n",
       "10  01-00007-03  उन्होंने कहा की वृक्षारोपण को अपना धर्म बनाना ...\n",
       "11  01-00008-01                           और सुरक्षित नहीं हो सकता\n",
       "12  01-00009-02  एक वयक्ति की औसत आयु सत्तर से पचहतर हो गयी हैं...\n",
       "13  01-00009-03  करने की कोई ज़रुरत नहीं हैं तो यह सोचना होगा पर...\n",
       "14  01-00010-01  एक वृक्ष लगाकर पर्यावरण प्रति जागरूक हो जायेंग...\n",
       "15  01-00010-02             दिलीप पांडे मोबइलवाणी मीडिया डेस्क ऐसी\n",
       "16  01-00010-03  में दिलीप पांडे मोबइलवाणी मीडिया डेस्क ऐसी नगर...\n",
       "17  01-00011-01  सफाई अभियान में लगा हैं इतनी बड़ी के बाद भी जहा...\n",
       "18  01-00011-02  नगर को सफाई के नाम आरोप सोलह ऐसी सत्रह लाख रूप...\n",
       "19  01-00011-03  #incomplete मिशन सोसाइटी चर्च ऑफ़ संस्था के तहत...\n",
       "20  01-00012-01  इस अभियान में नेपाल ऐसी आये टीम में कर की नेपा..."
      ]
     },
     "execution_count": 26,
     "metadata": {},
     "output_type": "execute_result"
    }
   ],
   "source": [
    "df.head(21)"
   ]
  },
  {
   "cell_type": "code",
   "execution_count": 28,
   "metadata": {},
   "outputs": [
    {
     "name": "stdout",
     "output_type": "stream",
     "text": [
      "418\n"
     ]
    }
   ],
   "source": [
    "l = []\n",
    "for text, i in zip(df['Text'], range(len(df['Text']))):\n",
    "    if '#incomplete' in text:\n",
    "        l.append(i)\n",
    "print(len(l))"
   ]
  },
  {
   "cell_type": "code",
   "execution_count": 29,
   "metadata": {},
   "outputs": [
    {
     "name": "stdout",
     "output_type": "stream",
     "text": [
      "(36734, 2) 36734\n"
     ]
    }
   ],
   "source": [
    "df_new = df.drop(l)\n",
    "print(df_new.shape, len(lines)-len(l))"
   ]
  },
  {
   "cell_type": "code",
   "execution_count": 66,
   "metadata": {},
   "outputs": [],
   "source": [
    "df_new.to_csv('./text_file.csv', encoding='utf-8', index = False)"
   ]
  },
  {
   "cell_type": "code",
   "execution_count": 47,
   "metadata": {},
   "outputs": [
    {
     "name": "stdout",
     "output_type": "stream",
     "text": [
      "4.3.0\n"
     ]
    }
   ],
   "source": [
    "import selenium\n",
    "print(selenium.__version__)"
   ]
  },
  {
   "cell_type": "code",
   "execution_count": 93,
   "metadata": {},
   "outputs": [
    {
     "name": "stderr",
     "output_type": "stream",
     "text": [
      "C:\\Users\\Yash\\AppData\\Local\\Temp\\ipykernel_18648\\4174023409.py:15: DeprecationWarning: executable_path has been deprecated, please pass in a Service object\n",
      "  driver = webdriver.Chrome(\"C:/SeleniumWebDrivers/chromedriver-win64/chromedriver.exe\",options=chrome_options)\n"
     ]
    }
   ],
   "source": [
    "import csv\n",
    "import time\n",
    "from selenium import webdriver\n",
    "from selenium.webdriver.common.by import By\n",
    "from selenium.webdriver.support.ui import Select\n",
    "from selenium.webdriver.chrome.service import Service\n",
    "from selenium.webdriver.chrome.options import Options\n",
    "from webdriver_manager.chrome import ChromeDriverManager\n",
    "\n",
    "# Initialize the WebDriver (you need to download the appropriate webdriver for your browser)\n",
    "chrome_options = Options()\n",
    "chrome_options.add_experimental_option(\"detach\",True)\n",
    "chrome_options.binary_location = \"C:/SeleniumWebDrivers/chrome-win64/chrome.exe\"\n",
    "# service = Service(ChromeDriverManager().install())\n",
    "driver = webdriver.Chrome(\"C:/SeleniumWebDrivers/chromedriver-win64/chromedriver.exe\",options=chrome_options)\n",
    "\n",
    "# Read text from a CSV file and store translations in a list\n",
    "translations = []\n",
    "\n",
    "df = pd.read_csv('./text_file.csv', encoding='utf-8')\n",
    "for input_text in df['Text']:\n",
    "      # Assuming the text is in the first column\n",
    "\n",
    "        # Open the webpage and input the text\n",
    "    driver.get('https://cohenpr-xpf.github.io/XPF/Convert-to-IPA.html')  # Replace with your webpage URL\n",
    "\n",
    "        # Select a language from the dropdown\n",
    "    select = Select(driver.find_element(By.ID, 'rule_dropdown'))  # Replace 'dropdown_id' with the actual ID of the dropdown\n",
    "    select.select_by_visible_text('Hindi')  # Replace 'selected_language_value' with the desired language value\n",
    "    # time.sleep(5)\n",
    "    text_area = driver.find_element(By.ID, 'in1')  # Replace 'text_area_id' with the actual ID of the text area\n",
    "    text_area.send_keys(input_text)\n",
    "    # time.sleep(2)\n",
    "\n",
    "        # Click the translate button\n",
    "    translate_button = driver.find_element(By.ID, 'submit')  # Replace 'translate_button_id' with the actual ID of the button\n",
    "    translate_button.click()\n",
    "\n",
    "\n",
    "        # Capture the translated output\n",
    "    translated_output = driver.execute_script(\"return arguments[0].value;\", driver.find_element(By.ID, 'out1'))  # Replace 'translated_output_id' with the actual ID of the output element\n",
    "        # time.sleep(5)\n",
    "        # Append the translation to the list\n",
    "    translations.append(translated_output)\n",
    "\n",
    "# Close the WebDriver\n",
    "driver.quit()\n"
   ]
  },
  {
   "cell_type": "code",
   "execution_count": 94,
   "metadata": {},
   "outputs": [
    {
     "name": "stdout",
     "output_type": "stream",
     "text": [
      "36734\n"
     ]
    }
   ],
   "source": [
    "print(len(translations))\n",
    "# print(translations)"
   ]
  },
  {
   "cell_type": "code",
   "execution_count": 95,
   "metadata": {},
   "outputs": [
    {
     "data": {
      "text/html": [
       "<div>\n",
       "<style scoped>\n",
       "    .dataframe tbody tr th:only-of-type {\n",
       "        vertical-align: middle;\n",
       "    }\n",
       "\n",
       "    .dataframe tbody tr th {\n",
       "        vertical-align: top;\n",
       "    }\n",
       "\n",
       "    .dataframe thead th {\n",
       "        text-align: right;\n",
       "    }\n",
       "</style>\n",
       "<table border=\"1\" class=\"dataframe\">\n",
       "  <thead>\n",
       "    <tr style=\"text-align: right;\">\n",
       "      <th></th>\n",
       "      <th>Original</th>\n",
       "      <th>Translated</th>\n",
       "    </tr>\n",
       "  </thead>\n",
       "  <tbody>\n",
       "    <tr>\n",
       "      <th>0</th>\n",
       "      <td>इस मामले में कोर्ट द्वारा निर्देश दिया गया है ...</td>\n",
       "      <td>ɪsɐ mɑmɐle mẽ koɾʈɐ d̪ʋɑɾɑ nɪɾd̪eʃɐ d̪ɪjɑ ɡɐj...</td>\n",
       "    </tr>\n",
       "    <tr>\n",
       "      <th>1</th>\n",
       "      <td>आदिवासी प्रदेश कार्यकाल में सदस्य रहे कुमार श्...</td>\n",
       "      <td>ɑd̪ɪʋɑsi pɾɐd̪eʃɐ kɑɾjɐkɑlɐ mẽ sɐd̪ɐsjɐ ɾɐhe ...</td>\n",
       "    </tr>\n",
       "    <tr>\n",
       "      <th>2</th>\n",
       "      <td>बारह जात तो आंदोलन करेंगे जाने वाले बड़े संख्या...</td>\n",
       "      <td>bɑɾɐhɐ dʒɑt̪ɐ t̪o ɑ̃d̪olɐnɐ kɐɾẽɡe dʒɑne ʋɑle...</td>\n",
       "    </tr>\n",
       "    <tr>\n",
       "      <th>3</th>\n",
       "      <td>में दिलीप पांडे मोबइलवाणी मीडिया डेस्क ऐसी को ...</td>\n",
       "      <td>mẽ d̪ɪlipɐ pɑ̃ɖe mobɐɪlɐʋɑni miɖɪjɑ ɖeskɐ ɛsi...</td>\n",
       "    </tr>\n",
       "    <tr>\n",
       "      <th>4</th>\n",
       "      <td>का फोटोकॉपी लिया जा रहा हैं वही नेता मुकेश याद...</td>\n",
       "      <td>kɑ pʰoʈokɐ@pi lɪjɑ dʒɑ ɾɐhɑ hɛ@ ʋɐhi net̪ɑ mʊk...</td>\n",
       "    </tr>\n",
       "  </tbody>\n",
       "</table>\n",
       "</div>"
      ],
      "text/plain": [
       "                                            Original  \\\n",
       "0  इस मामले में कोर्ट द्वारा निर्देश दिया गया है ...   \n",
       "1  आदिवासी प्रदेश कार्यकाल में सदस्य रहे कुमार श्...   \n",
       "2  बारह जात तो आंदोलन करेंगे जाने वाले बड़े संख्या...   \n",
       "3  में दिलीप पांडे मोबइलवाणी मीडिया डेस्क ऐसी को ...   \n",
       "4  का फोटोकॉपी लिया जा रहा हैं वही नेता मुकेश याद...   \n",
       "\n",
       "                                          Translated  \n",
       "0  ɪsɐ mɑmɐle mẽ koɾʈɐ d̪ʋɑɾɑ nɪɾd̪eʃɐ d̪ɪjɑ ɡɐj...  \n",
       "1  ɑd̪ɪʋɑsi pɾɐd̪eʃɐ kɑɾjɐkɑlɐ mẽ sɐd̪ɐsjɐ ɾɐhe ...  \n",
       "2  bɑɾɐhɐ dʒɑt̪ɐ t̪o ɑ̃d̪olɐnɐ kɐɾẽɡe dʒɑne ʋɑle...  \n",
       "3  mẽ d̪ɪlipɐ pɑ̃ɖe mobɐɪlɐʋɑni miɖɪjɑ ɖeskɐ ɛsi...  \n",
       "4  kɑ pʰoʈokɐ@pi lɪjɑ dʒɑ ɾɐhɑ hɛ@ ʋɐhi net̪ɑ mʊk...  "
      ]
     },
     "execution_count": 95,
     "metadata": {},
     "output_type": "execute_result"
    }
   ],
   "source": [
    "df_translated = pd.DataFrame({'Original': df_new['Text'], 'Translated':translations})\n",
    "df_translated.head(5)"
   ]
  },
  {
   "cell_type": "code",
   "execution_count": 98,
   "metadata": {},
   "outputs": [
    {
     "name": "stdout",
     "output_type": "stream",
     "text": [
      "30 24085\n"
     ]
    }
   ],
   "source": [
    "i = j = 0\n",
    "for text in df_translated['Translated']:\n",
    "    if len(text) == 0:\n",
    "        i += 1\n",
    "    if '@' in text:\n",
    "        j += 1\n",
    "print(i, df_translated.shape[0] - j)"
   ]
  },
  {
   "cell_type": "code",
   "execution_count": 99,
   "metadata": {},
   "outputs": [],
   "source": [
    "df_translated.to_csv('./output.csv', index=False)"
   ]
  },
  {
   "cell_type": "code",
   "execution_count": 101,
   "metadata": {},
   "outputs": [],
   "source": [
    "df_translated['Audio_File'] = df_new['File Name']"
   ]
  },
  {
   "cell_type": "code",
   "execution_count": 105,
   "metadata": {},
   "outputs": [
    {
     "data": {
      "text/html": [
       "<div>\n",
       "<style scoped>\n",
       "    .dataframe tbody tr th:only-of-type {\n",
       "        vertical-align: middle;\n",
       "    }\n",
       "\n",
       "    .dataframe tbody tr th {\n",
       "        vertical-align: top;\n",
       "    }\n",
       "\n",
       "    .dataframe thead th {\n",
       "        text-align: right;\n",
       "    }\n",
       "</style>\n",
       "<table border=\"1\" class=\"dataframe\">\n",
       "  <thead>\n",
       "    <tr style=\"text-align: right;\">\n",
       "      <th></th>\n",
       "      <th>Original</th>\n",
       "      <th>Translated</th>\n",
       "      <th>Audio_File</th>\n",
       "    </tr>\n",
       "  </thead>\n",
       "  <tbody>\n",
       "    <tr>\n",
       "      <th>0</th>\n",
       "      <td>इस मामले में कोर्ट द्वारा निर्देश दिया गया है ...</td>\n",
       "      <td>ɪsɐ mɑmɐle mẽ koɾʈɐ d̪ʋɑɾɑ nɪɾd̪eʃɐ d̪ɪjɑ ɡɐj...</td>\n",
       "      <td>01-00003-02</td>\n",
       "    </tr>\n",
       "    <tr>\n",
       "      <th>1</th>\n",
       "      <td>आदिवासी प्रदेश कार्यकाल में सदस्य रहे कुमार श्...</td>\n",
       "      <td>ɑd̪ɪʋɑsi pɾɐd̪eʃɐ kɑɾjɐkɑlɐ mẽ sɐd̪ɐsjɐ ɾɐhe ...</td>\n",
       "      <td>01-00003-03</td>\n",
       "    </tr>\n",
       "    <tr>\n",
       "      <th>2</th>\n",
       "      <td>बारह जात तो आंदोलन करेंगे जाने वाले बड़े संख्या...</td>\n",
       "      <td>bɑɾɐhɐ dʒɑt̪ɐ t̪o ɑ̃d̪olɐnɐ kɐɾẽɡe dʒɑne ʋɑle...</td>\n",
       "      <td>01-00004-01</td>\n",
       "    </tr>\n",
       "    <tr>\n",
       "      <th>3</th>\n",
       "      <td>में दिलीप पांडे मोबइलवाणी मीडिया डेस्क ऐसी को ...</td>\n",
       "      <td>mẽ d̪ɪlipɐ pɑ̃ɖe mobɐɪlɐʋɑni miɖɪjɑ ɖeskɐ ɛsi...</td>\n",
       "      <td>01-00004-03</td>\n",
       "    </tr>\n",
       "    <tr>\n",
       "      <th>4</th>\n",
       "      <td>का फोटोकॉपी लिया जा रहा हैं वही नेता मुकेश याद...</td>\n",
       "      <td>kɑ pʰoʈokɐ@pi lɪjɑ dʒɑ ɾɐhɑ hɛ@ ʋɐhi net̪ɑ mʊk...</td>\n",
       "      <td>01-00005-02</td>\n",
       "    </tr>\n",
       "  </tbody>\n",
       "</table>\n",
       "</div>"
      ],
      "text/plain": [
       "                                            Original  \\\n",
       "0  इस मामले में कोर्ट द्वारा निर्देश दिया गया है ...   \n",
       "1  आदिवासी प्रदेश कार्यकाल में सदस्य रहे कुमार श्...   \n",
       "2  बारह जात तो आंदोलन करेंगे जाने वाले बड़े संख्या...   \n",
       "3  में दिलीप पांडे मोबइलवाणी मीडिया डेस्क ऐसी को ...   \n",
       "4  का फोटोकॉपी लिया जा रहा हैं वही नेता मुकेश याद...   \n",
       "\n",
       "                                          Translated   Audio_File  \n",
       "0  ɪsɐ mɑmɐle mẽ koɾʈɐ d̪ʋɑɾɑ nɪɾd̪eʃɐ d̪ɪjɑ ɡɐj...  01-00003-02  \n",
       "1  ɑd̪ɪʋɑsi pɾɐd̪eʃɐ kɑɾjɐkɑlɐ mẽ sɐd̪ɐsjɐ ɾɐhe ...  01-00003-03  \n",
       "2  bɑɾɐhɐ dʒɑt̪ɐ t̪o ɑ̃d̪olɐnɐ kɐɾẽɡe dʒɑne ʋɑle...  01-00004-01  \n",
       "3  mẽ d̪ɪlipɐ pɑ̃ɖe mobɐɪlɐʋɑni miɖɪjɑ ɖeskɐ ɛsi...  01-00004-03  \n",
       "4  kɑ pʰoʈokɐ@pi lɪjɑ dʒɑ ɾɐhɑ hɛ@ ʋɐhi net̪ɑ mʊk...  01-00005-02  "
      ]
     },
     "execution_count": 105,
     "metadata": {},
     "output_type": "execute_result"
    }
   ],
   "source": [
    "df_translated.head(5)"
   ]
  },
  {
   "cell_type": "code",
   "execution_count": 109,
   "metadata": {},
   "outputs": [
    {
     "name": "stdout",
     "output_type": "stream",
     "text": [
      "12649\n"
     ]
    }
   ],
   "source": [
    "li = df_translated.index[(df_translated['Translated'].apply(lambda a: '@' in a)) | ('@' in df_translated['Translated'].apply(lambda a: len(a) == 0))].tolist()\n",
    "# for text, i in zip(df_translated['Translated'], range(len(df_translated['Translated']))):\n",
    "    # if len(text) == 0 or '@' in text:\n",
    "        \n",
    "\n",
    "print(len(li))"
   ]
  },
  {
   "cell_type": "code",
   "execution_count": 110,
   "metadata": {},
   "outputs": [
    {
     "data": {
      "text/plain": [
       "(24085, 3)"
      ]
     },
     "execution_count": 110,
     "metadata": {},
     "output_type": "execute_result"
    }
   ],
   "source": [
    "df_cleaned = df_translated.drop(li)\n",
    "df_cleaned.shape"
   ]
  },
  {
   "cell_type": "code",
   "execution_count": null,
   "metadata": {},
   "outputs": [],
   "source": [
    "df_cleaned.to_csv('./output2.csv', index=False)"
   ]
  }
 ],
 "metadata": {
  "kernelspec": {
   "display_name": "Python 3",
   "language": "python",
   "name": "python3"
  },
  "language_info": {
   "codemirror_mode": {
    "name": "ipython",
    "version": 3
   },
   "file_extension": ".py",
   "mimetype": "text/x-python",
   "name": "python",
   "nbconvert_exporter": "python",
   "pygments_lexer": "ipython3",
   "version": "3.10.4"
  },
  "orig_nbformat": 4
 },
 "nbformat": 4,
 "nbformat_minor": 2
}
